{
  "nbformat": 4,
  "nbformat_minor": 0,
  "metadata": {
    "colab": {
      "name": "DSA.ipynb",
      "provenance": [],
      "toc_visible": true,
      "authorship_tag": "ABX9TyMcP3GTtTeQu6F5BetUYQH4",
      "include_colab_link": true
    },
    "kernelspec": {
      "name": "python3",
      "display_name": "Python 3"
    },
    "language_info": {
      "name": "python"
    }
  },
  "cells": [
    {
      "cell_type": "markdown",
      "metadata": {
        "id": "view-in-github",
        "colab_type": "text"
      },
      "source": [
        "<a href=\"https://colab.research.google.com/github/dhineshkumarmayilsamy/Colaboratory/blob/main/DSA.ipynb\" target=\"_parent\"><img src=\"https://colab.research.google.com/assets/colab-badge.svg\" alt=\"Open In Colab\"/></a>"
      ]
    },
    {
      "cell_type": "code",
      "metadata": {
        "id": "JVzD9rnnquJw"
      },
      "source": [
        "def rec(arr, target, i):\n",
        "    if(target == 0):\n",
        "        return 1\n",
        "    elif(i < 0):\n",
        "        return 0\n",
        "    elif(target < arr[i]):\n",
        "        return rec(arr, target, i-1)\n",
        "    elif(target >= arr[i]):\n",
        "        return rec(arr, target - arr[i], i-1) + rec(arr, target, i-1)"
      ],
      "execution_count": 1,
      "outputs": []
    },
    {
      "cell_type": "code",
      "metadata": {
        "colab": {
          "base_uri": "https://localhost:8080/"
        },
        "id": "5FxoCjHAqvuT",
        "outputId": "3f4effeb-77f3-45da-f757-4fd9bb0d0be2"
      },
      "source": [
        "arr = [i for i in range(100)]\n",
        "target = 6\n",
        "length = len(arr) - 1\n",
        "result = rec(arr,target,length)\n",
        "print(\"Result1: \" + str(result))"
      ],
      "execution_count": 2,
      "outputs": [
        {
          "output_type": "stream",
          "name": "stdout",
          "text": [
            "Result1: 4\n"
          ]
        }
      ]
    },
    {
      "cell_type": "code",
      "metadata": {
        "id": "CsFzc0JzrHxP"
      },
      "source": [
        "def rec(arr, target, i, mem):\n",
        "    key = f\"{target}:{i}\"\n",
        "    if(key in mem):\n",
        "        return mem[key]\n",
        "    elif(target == 0):\n",
        "        return 1\n",
        "    elif(target < 0):\n",
        "        return 0\n",
        "    elif(i < 0):\n",
        "        return 0\n",
        "    elif(target < arr[i]):\n",
        "        to_return = rec(arr, target, i-1,mem)\n",
        "    elif(target >= arr[i]):\n",
        "        to_return = rec(arr, target - arr[i], i-1,mem) + rec(arr, target, i-1,mem)\n",
        "    mem[key] = to_return\n",
        "    return to_return "
      ],
      "execution_count": 3,
      "outputs": []
    },
    {
      "cell_type": "code",
      "metadata": {
        "colab": {
          "base_uri": "https://localhost:8080/"
        },
        "id": "JW3WnB0arIeO",
        "outputId": "a51a764a-8d89-4be6-c346-1acc77ae2dde"
      },
      "source": [
        "arr = [i for i in range(100)]\n",
        "target = 6\n",
        "length = len(arr) - 1\n",
        "mem = {}\n",
        "result = rec(arr,target,length,mem)\n",
        "print(\"Result2: \" + str(result))"
      ],
      "execution_count": 5,
      "outputs": [
        {
          "output_type": "stream",
          "name": "stdout",
          "text": [
            "Result2: 4\n"
          ]
        }
      ]
    }
  ]
}